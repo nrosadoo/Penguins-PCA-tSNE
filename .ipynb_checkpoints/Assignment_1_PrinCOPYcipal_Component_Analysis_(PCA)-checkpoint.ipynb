{
 "cells": [
  {
   "cell_type": "markdown",
   "id": "01375c32",
   "metadata": {
    "id": "01375c32"
   },
   "source": [
    "# Assignment 1: Principal Component Analysis (PCA)\n",
    "\n",
    "## DTSC-680: Applied Machine Learning\n",
    "\n",
    "## Name:\n"
   ]
  },
  {
   "cell_type": "markdown",
   "id": "b249b051",
   "metadata": {
    "id": "b249b051"
   },
   "source": [
    "### Overview\n",
    "\n",
    "In this assignment, you will import a high dimensional dataset and reduce the dimensions of the data in order to visualize the clusters that exist within the data. You will use both PCA and t-SNE to perform dimensionality reduction."
   ]
  },
  {
   "cell_type": "code",
   "execution_count": null,
   "id": "671e354a",
   "metadata": {
    "id": "671e354a"
   },
   "outputs": [],
   "source": [
    "# common imports\n",
    "import numpy as np\n",
    "import pandas as pd\n",
    "%matplotlib inline\n",
    "import matplotlib.pyplot as plt\n",
    "import seaborn as sns"
   ]
  },
  {
   "cell_type": "markdown",
   "id": "c2382168",
   "metadata": {
    "id": "c2382168"
   },
   "source": [
    "### Data Prep\n",
    "\n",
    "The penguins dataset is included in the `penguins.csv` file. Read the penguins data into a pandas DataFrame called `penguins`. To ensure compatibility across different operating systems, make sure to use the encoding='utf-8' parameter."
   ]
  },
  {
   "cell_type": "code",
   "execution_count": null,
   "id": "39666a7f",
   "metadata": {
    "id": "39666a7f",
    "outputId": "ec8b9bd9-629f-43a0-d6a8-554fbdb81b24"
   },
   "outputs": [],
   "source": [
    "# STUDENTS CODE"
   ]
  },
  {
   "cell_type": "markdown",
   "id": "5a084399",
   "metadata": {
    "id": "5a084399"
   },
   "source": [
    "Before we can perform any dimensionality reduction or Machine Learning task, the data needs to be cleaned. Perform the following data cleaning and preprocessing tasks:\n",
    "- Drop any rows containing NULL values.\n",
    "- Use scikit-learn's [`Label Encoder`](https://scikit-learn.org/stable/modules/generated/sklearn.preprocessing.LabelEncoder.html) to encode the categorical columns to numerical values.\n",
    "- Split the data into a Series called `species` containing the species column and the `penguins` dataframe containing all of the other columns."
   ]
  },
  {
   "cell_type": "code",
   "execution_count": null,
   "id": "bcfaecf8",
   "metadata": {
    "id": "bcfaecf8"
   },
   "outputs": [],
   "source": [
    "# STUDENTS CODE"
   ]
  },
  {
   "cell_type": "code",
   "execution_count": null,
   "id": "acef568f",
   "metadata": {
    "id": "acef568f",
    "outputId": "c9b37b5b-a159-4703-bfdb-fc0c252c063c"
   },
   "outputs": [],
   "source": [
    "# STUDENTS CODE"
   ]
  },
  {
   "cell_type": "code",
   "execution_count": null,
   "id": "24a3cfbe",
   "metadata": {
    "id": "24a3cfbe"
   },
   "outputs": [],
   "source": [
    "# STUDENTS CODE"
   ]
  },
  {
   "cell_type": "markdown",
   "id": "28dc87a8",
   "metadata": {
    "id": "28dc87a8"
   },
   "source": [
    "### Reduce Dimensions for Visualization Using PCA\n",
    "\n",
    "Use PCA to reduce the dimensions of the dataset so that the clusters can be visualized. Call the PCA'ed dataframe `pca_penguins`, setting the random state to 0. Then, run the cell below to plot the PCA'ed data. Lastly, store the array containing the explained variance ratio as `exp_variance`. "
   ]
  },
  {
   "cell_type": "code",
   "execution_count": null,
   "id": "64140676",
   "metadata": {
    "id": "64140676",
    "scrolled": true
   },
   "outputs": [],
   "source": [
    "# STUDENTS CODE"
   ]
  },
  {
   "cell_type": "code",
   "execution_count": null,
   "id": "0721ccdf",
   "metadata": {
    "id": "0721ccdf",
    "outputId": "5e89e214-a4c4-4ca0-fe82-728e82837c34"
   },
   "outputs": [],
   "source": [
    "# CODE PROVIDED\n",
    "plt.figure(figsize=(12, 8))\n",
    "plt.scatter(pca_penguins[:, 0], pca_penguins[:, 1], c=species, cmap=plt.colormaps['Set1'])\n",
    "plt.clim(-0.5, 9.5)"
   ]
  },
  {
   "cell_type": "code",
   "execution_count": null,
   "id": "732dc36a",
   "metadata": {
    "id": "732dc36a",
    "outputId": "eadae2e8-4813-48a8-8ff2-e34232dde5f4"
   },
   "outputs": [],
   "source": [
    "# STUDENTS CODE"
   ]
  },
  {
   "cell_type": "markdown",
   "id": "89e5f1dc",
   "metadata": {
    "id": "89e5f1dc"
   },
   "source": [
    "### Reduce Dimensions for Visualization Using t-SNE\n",
    "\n",
    "Now, use t-SNE to perform the same dimensionality reduction. Call the t-SNE'ed dataframe `tsne_penguins` setting the random state to 0, and then run the cell below to plot the t-SNE'ed data."
   ]
  },
  {
   "cell_type": "code",
   "execution_count": null,
   "id": "dba76160",
   "metadata": {
    "id": "dba76160",
    "outputId": "6a812dd0-4f08-4ca6-f3c6-317a85dee341"
   },
   "outputs": [],
   "source": [
    "# STUDENTS CODE"
   ]
  },
  {
   "cell_type": "code",
   "execution_count": null,
   "id": "1c3b3ccb",
   "metadata": {
    "id": "1c3b3ccb",
    "outputId": "08738d43-3a9e-42c3-fd84-f4e79baac586"
   },
   "outputs": [],
   "source": [
    "# CODE PROVIDED\n",
    "%matplotlib inline\n",
    "plt.figure(figsize=(12, 8))\n",
    "plt.scatter(tsne_penguins[:, 0], tsne_penguins[:, 1], c=species, cmap=plt.colormaps['Set1'])\n",
    "plt.clim(-0.5, 9.5)"
   ]
  },
  {
   "cell_type": "markdown",
   "id": "c6c1a380",
   "metadata": {
    "id": "c6c1a380"
   },
   "source": [
    "### Reduce Dimensions for Visualization Using PCA and t-SNE\n",
    "\n",
    "Finally, use t-SNE to perform dimensionality reduction on the PCA'ed penguins data. Call this dataframe `pca_tsne_penguins` and run the following cell to plot the new data."
   ]
  },
  {
   "cell_type": "code",
   "execution_count": null,
   "id": "34291e9e",
   "metadata": {
    "id": "34291e9e",
    "outputId": "0aff380c-1afb-4b0b-b153-4bc4a6d49859"
   },
   "outputs": [],
   "source": [
    "# STUDENTS CODE"
   ]
  },
  {
   "cell_type": "code",
   "execution_count": null,
   "id": "1fb9ae63",
   "metadata": {
    "id": "1fb9ae63",
    "outputId": "7e8cadfb-2486-4b16-876c-950cd197cce6"
   },
   "outputs": [],
   "source": [
    "# CODE PROVIDED\n",
    "%matplotlib inline\n",
    "plt.figure(figsize=(12, 8))\n",
    "plt.scatter(pca_tsne_penguins[:, 0], pca_tsne_penguins[:, 1], c=species, cmap=plt.colormaps['Set1'])\n",
    "plt.clim(-0.5, 9.5)"
   ]
  },
  {
   "cell_type": "markdown",
   "id": "c1f54226",
   "metadata": {
    "id": "c1f54226"
   },
   "source": [
    "Take a minute to look at the three plots. Which plot seperates the clusters most clearly?"
   ]
  },
  {
   "cell_type": "markdown",
   "id": "c1a21b5c-96ee-4743-b73b-070c6654019c",
   "metadata": {},
   "source": [
    "### Export cleaned penguins dataset for codegrade evaluation\n",
    "Using the \"pickle\" library:\n",
    "\n",
    "Export the cleaned penguins dataset as \"cleaned_peguins.pkl\"."
   ]
  },
  {
   "cell_type": "code",
   "execution_count": null,
   "id": "46ea1e62-2267-4792-a3b7-7c6029b2b80c",
   "metadata": {},
   "outputs": [],
   "source": [
    "# CODE PROVIDED\n",
    "import pickle\n",
    "\n",
    "#Save dataset to file\n",
    "with open('cleaned_penguins.pkl', 'wb') as file:\n",
    "    pickle.dump(penguins , file)   ## --> MAKE SURE TO EXPORT THE RIGHT DATASET"
   ]
  },
  {
   "cell_type": "markdown",
   "id": "b2f934da-9f8c-4834-9c89-0c1010735bf1",
   "metadata": {},
   "source": [
    "### Export Models for codegrade evaluation\n",
    "Using the \"pickle\" library:\n",
    "\n",
    "Export the models as \"pca_penguins.pkl\", \"pca_tsne_penguins.pkl\" and \"tsne_penguins\"."
   ]
  },
  {
   "cell_type": "code",
   "execution_count": null,
   "id": "decc9a28-5ba4-4605-9d84-b60e7e7bcca3",
   "metadata": {},
   "outputs": [],
   "source": [
    "# CODE PROVIDED\n",
    "#Save PCA MODEL to file\n",
    "with open('pca_penguins.pkl', 'wb') as file:\n",
    "    pickle.dump(pca_penguins , file)   ## --> MAKE SURE TO EXPORT THE RIGHT MODEL\n",
    "\n",
    "#Save TSNE_PCA MODEL to file\n",
    "with open('pca_tsne_penguins.pkl', 'wb') as file:\n",
    "    pickle.dump(pca_tsne_penguins , file)   ## --> MAKE SURE TO EXPORT THE RIGHT MODEL\n",
    "\n",
    "#Save TSE MODEL to file\n",
    "with open('tsne_penguins.pkl', 'wb') as file:\n",
    "    pickle.dump(tsne_penguins , file)   ## --> MAKE SURE TO EXPORT THE RIGHT MODEL"
   ]
  }
 ],
 "metadata": {
  "colab": {
   "provenance": []
  },
  "kernelspec": {
   "display_name": "Python 3 (ipykernel)",
   "language": "python",
   "name": "python3"
  },
  "language_info": {
   "codemirror_mode": {
    "name": "ipython",
    "version": 3
   },
   "file_extension": ".py",
   "mimetype": "text/x-python",
   "name": "python",
   "nbconvert_exporter": "python",
   "pygments_lexer": "ipython3",
   "version": "3.8.18"
  }
 },
 "nbformat": 4,
 "nbformat_minor": 5
}
